{
 "cells": [
  {
   "cell_type": "markdown",
   "metadata": {},
   "source": [
    "## importing data from dataset"
   ]
  },
  {
   "cell_type": "code",
   "execution_count": 1,
   "metadata": {},
   "outputs": [],
   "source": [
    "import numpy as np\n",
    "from os import path"
   ]
  },
  {
   "cell_type": "code",
   "execution_count": 2,
   "metadata": {},
   "outputs": [
    {
     "data": {
      "text/plain": [
       "999"
      ]
     },
     "execution_count": 2,
     "metadata": {},
     "output_type": "execute_result"
    }
   ],
   "source": [
    "str1='groups/alt.atheism/'\n",
    "b0=[]\n",
    "for i in range(51119,54565):\n",
    "    if(path.exists(str1+str(i))==False):\n",
    "        continue\n",
    "    obj=open(str1+str(i),errors=None)\n",
    "    data=obj.read()\n",
    "    a=[data,'alt.atheism']\n",
    "    b0.append(a);\n",
    "len(b0)"
   ]
  },
  {
   "cell_type": "code",
   "execution_count": 3,
   "metadata": {},
   "outputs": [
    {
     "data": {
      "text/plain": [
       "1000"
      ]
     },
     "execution_count": 3,
     "metadata": {},
     "output_type": "execute_result"
    }
   ],
   "source": [
    "str1='groups/comp.graphics/'\n",
    "b1=[]\n",
    "for i in range(37261,40063):\n",
    "    if(path.exists(str1+str(i))==False):\n",
    "        continue\n",
    "    obj=open(str1+str(i),errors=None)\n",
    "    data=obj.read()\n",
    "    a=[data,'comp.graphics']\n",
    "    b1.append(a);\n",
    "len(b1)"
   ]
  },
  {
   "cell_type": "code",
   "execution_count": 4,
   "metadata": {},
   "outputs": [
    {
     "data": {
      "text/plain": [
       "999"
      ]
     },
     "execution_count": 4,
     "metadata": {},
     "output_type": "execute_result"
    }
   ],
   "source": [
    "str1='groups/comp.os.ms-windows.misc/'\n",
    "b2=[]\n",
    "for i in range(9000,11000):\n",
    "    if(path.exists(str1+str(i))==False):\n",
    "        continue\n",
    "    obj=open(str1+str(i),errors=None)\n",
    "    data=obj.read()\n",
    "    a=[data,'comp.os.ms-windows.misc']\n",
    "    b2.append(a);\n",
    "len(b2)"
   ]
  },
  {
   "cell_type": "code",
   "execution_count": 5,
   "metadata": {},
   "outputs": [
    {
     "data": {
      "text/plain": [
       "1000"
      ]
     },
     "execution_count": 5,
     "metadata": {},
     "output_type": "execute_result"
    }
   ],
   "source": [
    "str1='groups/comp.sys.ibm.pc.hardware/'\n",
    "b3=[]\n",
    "for i in range(58000,62000):\n",
    "    if(path.exists(str1+str(i))==False):\n",
    "        continue\n",
    "    obj=open(str1+str(i),errors=None)\n",
    "    data=obj.read()\n",
    "    a=[data,'comp.sys.ibm.pc.hardware']\n",
    "    b3.append(a);\n",
    "len(b3)"
   ]
  },
  {
   "cell_type": "code",
   "execution_count": 6,
   "metadata": {},
   "outputs": [
    {
     "data": {
      "text/plain": [
       "1000"
      ]
     },
     "execution_count": 6,
     "metadata": {},
     "output_type": "execute_result"
    }
   ],
   "source": [
    "str1='groups/comp.sys.mac.hardware/'\n",
    "b4=[]\n",
    "for i in range(50400,53000):\n",
    "    if(path.exists(str1+str(i))==False):\n",
    "        continue\n",
    "    obj=open(str1+str(i),errors=None)\n",
    "    data=obj.read()\n",
    "    a=[data,'comp.sys.mac.hardware']\n",
    "    b4.append(a);\n",
    "len(b4)"
   ]
  },
  {
   "cell_type": "code",
   "execution_count": 7,
   "metadata": {},
   "outputs": [
    {
     "data": {
      "text/plain": [
       "1000"
      ]
     },
     "execution_count": 7,
     "metadata": {},
     "output_type": "execute_result"
    }
   ],
   "source": [
    "str1='groups/comp.windows.x/'\n",
    "b5=[]\n",
    "for i in range(64800,68400):\n",
    "    if(path.exists(str1+str(i))==False):\n",
    "        continue\n",
    "    obj=open(str1+str(i),errors=None)\n",
    "    data=obj.read()\n",
    "    a=[data,'comp.windows.x']\n",
    "    b5.append(a);\n",
    "len(b5)"
   ]
  },
  {
   "cell_type": "code",
   "execution_count": 8,
   "metadata": {},
   "outputs": [
    {
     "data": {
      "text/plain": [
       "1000"
      ]
     },
     "execution_count": 8,
     "metadata": {},
     "output_type": "execute_result"
    }
   ],
   "source": [
    "str1='groups/misc.forsale/'\n",
    "b6=[]\n",
    "for i in range(70300,77100):\n",
    "    if(path.exists(str1+str(i))==False):\n",
    "        continue\n",
    "    obj=open(str1+str(i),errors=None)\n",
    "    data=obj.read()\n",
    "    a=[data,'misc.forsale']\n",
    "    b6.append(a);\n",
    "len(b6)"
   ]
  },
  {
   "cell_type": "code",
   "execution_count": 9,
   "metadata": {},
   "outputs": [
    {
     "data": {
      "text/plain": [
       "1000"
      ]
     },
     "execution_count": 9,
     "metadata": {},
     "output_type": "execute_result"
    }
   ],
   "source": [
    "str1='groups/rec.autos/'\n",
    "b7=[]\n",
    "for i in range(101550,103900):\n",
    "    if(path.exists(str1+str(i))==False):\n",
    "        continue\n",
    "    obj=open(str1+str(i),errors=None)\n",
    "    data=obj.read()\n",
    "    a=[data,'rec.autos']\n",
    "    b7.append(a);\n",
    "len(b7)"
   ]
  },
  {
   "cell_type": "code",
   "execution_count": 10,
   "metadata": {},
   "outputs": [
    {
     "data": {
      "text/plain": [
       "999"
      ]
     },
     "execution_count": 10,
     "metadata": {},
     "output_type": "execute_result"
    }
   ],
   "source": [
    "str1='groups/rec.motorcycles/'\n",
    "b8=[]\n",
    "for i in range(101720,105670):\n",
    "    if(path.exists(str1+str(i))==False):\n",
    "        continue\n",
    "    obj=open(str1+str(i),errors=None)\n",
    "    data=obj.read()\n",
    "    a=[data,'rec.motorcycles']\n",
    "    b8.append(a);\n",
    "len(b8)"
   ]
  },
  {
   "cell_type": "code",
   "execution_count": 11,
   "metadata": {},
   "outputs": [
    {
     "data": {
      "text/plain": [
       "1000"
      ]
     },
     "execution_count": 11,
     "metadata": {},
     "output_type": "execute_result"
    }
   ],
   "source": [
    "str1='groups/rec.sport.baseball/'\n",
    "b9=[]\n",
    "for i in range(98657,105991):\n",
    "    if(path.exists(str1+str(i))==False):\n",
    "        continue\n",
    "    obj=open(str1+str(i),errors=None)\n",
    "    data=obj.read()\n",
    "    a=[data,'rec.sport.baseball']\n",
    "    b9.append(a);\n",
    "len(b9)"
   ]
  },
  {
   "cell_type": "code",
   "execution_count": 12,
   "metadata": {},
   "outputs": [
    {
     "data": {
      "text/plain": [
       "1000"
      ]
     },
     "execution_count": 12,
     "metadata": {},
     "output_type": "execute_result"
    }
   ],
   "source": [
    "str1='groups/rec.sport.hockey/'\n",
    "b10=[]\n",
    "for i in range(52550,55100):\n",
    "    if(path.exists(str1+str(i))==False):\n",
    "        continue\n",
    "    obj=open(str1+str(i),errors=None)\n",
    "    data=obj.read()\n",
    "    a=[data,'rec.sport.hockey']\n",
    "    b10.append(a);\n",
    "len(b10)"
   ]
  },
  {
   "cell_type": "code",
   "execution_count": 13,
   "metadata": {},
   "outputs": [
    {
     "data": {
      "text/plain": [
       "1000"
      ]
     },
     "execution_count": 13,
     "metadata": {},
     "output_type": "execute_result"
    }
   ],
   "source": [
    "str1='groups/sci.crypt/'\n",
    "b11=[]\n",
    "for i in range(14147,16360):\n",
    "    if(path.exists(str1+str(i))==False):\n",
    "        continue\n",
    "    obj=open(str1+str(i),errors=None)\n",
    "    data=obj.read()\n",
    "    a=[data,'sci.crypt']\n",
    "    b11.append(a);\n",
    "len(b11)"
   ]
  },
  {
   "cell_type": "code",
   "execution_count": 14,
   "metadata": {},
   "outputs": [
    {
     "data": {
      "text/plain": [
       "1000"
      ]
     },
     "execution_count": 14,
     "metadata": {},
     "output_type": "execute_result"
    }
   ],
   "source": [
    "str1='groups/sci.electronics/'\n",
    "b12=[]\n",
    "for i in range(52432,54510):\n",
    "    if(path.exists(str1+str(i))==False):\n",
    "        continue\n",
    "    obj=open(str1+str(i),errors=None)\n",
    "    data=obj.read()\n",
    "    a=[data,'sci.electronics']\n",
    "    b12.append(a);\n",
    "len(b12)"
   ]
  },
  {
   "cell_type": "code",
   "execution_count": 15,
   "metadata": {},
   "outputs": [
    {
     "data": {
      "text/plain": [
       "1000"
      ]
     },
     "execution_count": 15,
     "metadata": {},
     "output_type": "execute_result"
    }
   ],
   "source": [
    "str1='groups/sci.med/'\n",
    "b13=[]\n",
    "for i in range(57110,59655):\n",
    "    if(path.exists(str1+str(i))==False):\n",
    "        continue\n",
    "    obj=open(str1+str(i),errors=None)\n",
    "    data=obj.read()\n",
    "    a=[data,'sci.med']\n",
    "    b13.append(a);\n",
    "len(b13)"
   ]
  },
  {
   "cell_type": "code",
   "execution_count": 16,
   "metadata": {},
   "outputs": [
    {
     "data": {
      "text/plain": [
       "1000"
      ]
     },
     "execution_count": 16,
     "metadata": {},
     "output_type": "execute_result"
    }
   ],
   "source": [
    "str1='groups/sci.space/'\n",
    "b14=[]\n",
    "for i in range(59497,62710):\n",
    "    if(path.exists(str1+str(i))==False):\n",
    "        continue\n",
    "    obj=open(str1+str(i),errors=None)\n",
    "    data=obj.read()\n",
    "    a=[data,'sci.space']\n",
    "    b14.append(a);\n",
    "len(b14)"
   ]
  },
  {
   "cell_type": "code",
   "execution_count": 17,
   "metadata": {},
   "outputs": [
    {
     "data": {
      "text/plain": [
       "997"
      ]
     },
     "execution_count": 17,
     "metadata": {},
     "output_type": "execute_result"
    }
   ],
   "source": [
    "str1='groups/soc.religion.christian/'\n",
    "b15=[]\n",
    "for i in range(20360,21810):\n",
    "    if(path.exists(str1+str(i))==False):\n",
    "        continue\n",
    "    obj=open(str1+str(i),errors=None)\n",
    "    data=obj.read()\n",
    "    a=[data,'soc.religion.christian']\n",
    "    b15.append(a);\n",
    "len(b15)"
   ]
  },
  {
   "cell_type": "code",
   "execution_count": 18,
   "metadata": {},
   "outputs": [
    {
     "data": {
      "text/plain": [
       "1000"
      ]
     },
     "execution_count": 18,
     "metadata": {},
     "output_type": "execute_result"
    }
   ],
   "source": [
    "str1='groups/talk.politics.guns/'\n",
    "b16=[]\n",
    "for i in range(53293,55491):\n",
    "    if(path.exists(str1+str(i))==False):\n",
    "        continue\n",
    "    obj=open(str1+str(i),errors=None)\n",
    "    data=obj.read()\n",
    "    a=[data,'talk.politics.guns']\n",
    "    b16.append(a);\n",
    "len(b16)"
   ]
  },
  {
   "cell_type": "code",
   "execution_count": 19,
   "metadata": {},
   "outputs": [
    {
     "data": {
      "text/plain": [
       "1000"
      ]
     },
     "execution_count": 19,
     "metadata": {},
     "output_type": "execute_result"
    }
   ],
   "source": [
    "str1='groups/talk.politics.mideast/'\n",
    "b17=[]\n",
    "for i in range(75364,77860):\n",
    "    if(path.exists(str1+str(i))==False):\n",
    "        continue\n",
    "    obj=open(str1+str(i),errors=None)\n",
    "    data=obj.read()\n",
    "    a=[data,'talk.politics.mideast']\n",
    "    b17.append(a);\n",
    "len(b17)"
   ]
  },
  {
   "cell_type": "code",
   "execution_count": 20,
   "metadata": {},
   "outputs": [
    {
     "data": {
      "text/plain": [
       "1000"
      ]
     },
     "execution_count": 20,
     "metadata": {},
     "output_type": "execute_result"
    }
   ],
   "source": [
    "str1='groups/talk.politics.misc/'\n",
    "b18=[]\n",
    "for i in range(124146,179200):\n",
    "    if(path.exists(str1+str(i))==False):\n",
    "        continue\n",
    "    obj=open(str1+str(i),errors=None)\n",
    "    data=obj.read()\n",
    "    a=[data,'talk.politics.misc']\n",
    "    b18.append(a);\n",
    "len(b18)"
   ]
  },
  {
   "cell_type": "code",
   "execution_count": 21,
   "metadata": {},
   "outputs": [
    {
     "data": {
      "text/plain": [
       "1000"
      ]
     },
     "execution_count": 21,
     "metadata": {},
     "output_type": "execute_result"
    }
   ],
   "source": [
    "str1='groups/talk.religion.misc/'\n",
    "b19=[]\n",
    "for i in range(82757,84575):\n",
    "    if(path.exists(str1+str(i))==False):\n",
    "        continue\n",
    "    obj=open(str1+str(i),errors=None)\n",
    "    data=obj.read()\n",
    "    a=[data,'talk.religion.misc']\n",
    "    b19.append(a);\n",
    "len(b19)"
   ]
  },
  {
   "cell_type": "code",
   "execution_count": 22,
   "metadata": {},
   "outputs": [],
   "source": [
    "b=[b0,b1,b2,b3,b4,b5,b6,b7,b8,b9,b10,b11,b12,b13,b14,b15,b16,b17,b18,b19]\n",
    "file_string=['groups/alt.atheism/','groups/comp.graphics/','groups/comp.os.ms-windows.misc/','groups/comp.sys.ibm.pc.hardware/',\n",
    "             'groups/comp.sys.mac.hardware/','groups/comp.windows.x/','groups/misc.forsale/','groups/rec.autos/',\n",
    "             'groups/rec.motorcycles/','groups/rec.sport.baseball/','groups/rec.sport.hockey/','groups/sci.crypt/',\n",
    "             'groups/sci.electronics/','groups/sci.med/','groups/sci.space/','groups/soc.religion.christian/',\n",
    "             'groups/talk.politics.guns/','groups/talk.politics.mideast/','groups/talk.politics.misc/',\n",
    "             'groups/talk.religion.misc/']\n",
    "file_start=[51119,37261,9000,58000,50400,64800,70300,101550,101720,98657,52550,14147,52432,57110,59497,20360,53293,\n",
    "            75364,124146,82757]\n",
    "file_end=[54565,40063,11000,62000,53000,68400,77100,103900,105670,105991,55100,16360,54510,59655,62710,21810,55491\n",
    "          ,77860,179200,84575]\n",
    "# len(file_end)"
   ]
  },
  {
   "cell_type": "markdown",
   "metadata": {},
   "source": [
    "## creating dictionary"
   ]
  },
  {
   "cell_type": "code",
   "execution_count": 23,
   "metadata": {},
   "outputs": [],
   "source": [
    "from nltk.corpus import stopwords\n",
    "# nltk.download('stopwords')"
   ]
  },
  {
   "cell_type": "code",
   "execution_count": 24,
   "metadata": {},
   "outputs": [
    {
     "data": {
      "text/plain": [
       "179"
      ]
     },
     "execution_count": 24,
     "metadata": {},
     "output_type": "execute_result"
    }
   ],
   "source": [
    "stop_words=set(stopwords.words('english'))\n",
    "len(stop_words)"
   ]
  },
  {
   "cell_type": "code",
   "execution_count": 38,
   "metadata": {},
   "outputs": [
    {
     "data": {
      "text/plain": [
       "665"
      ]
     },
     "execution_count": 38,
     "metadata": {},
     "output_type": "execute_result"
    }
   ],
   "source": [
    "dictt={}\n",
    "for i in range(0,20):\n",
    "    word_list=b[i][0][0].split()\n",
    "    for j in word_list:\n",
    "        if j not in stop_words:\n",
    "            dictt[j]=dictt.get(j,0)+1\n",
    "dictt1={}\n",
    "for i in dictt:\n",
    "    if dictt[i]>=3 and len(i)>1:\n",
    "        dictt1[i]=dictt[i]\n",
    "dictt.clear()\n",
    "dictt=dictt1\n",
    "len(dictt)"
   ]
  },
  {
   "cell_type": "code",
   "execution_count": 39,
   "metadata": {},
   "outputs": [],
   "source": [
    "features=list(dictt.keys())\n",
    "index_dict={}\n",
    "for i in range(0,len(features)):\n",
    "    index_dict[features[i]]=i;\n",
    "X=[features]\n",
    "Y=['Y']\n",
    "# X.append(temp)         54565"
   ]
  },
  {
   "cell_type": "code",
   "execution_count": 27,
   "metadata": {},
   "outputs": [],
   "source": [
    "# str1='groups/alt.atheism/'\n",
    "# for i in range(51119,54565):\n",
    "#     if(path.exists(str1+str(i))==False):\n",
    "#         continue\n",
    "#     obj=open(str1+str(i),errors=None)\n",
    "#     data=obj.read()\n",
    "#     temp_list=data.split()\n",
    "#     temp_arr=[0 for i in range(0,len(features))]\n",
    "#     for j in temp_list:\n",
    "#         if j in index_dict:\n",
    "#             temp_arr[index_dict[j]]+=1\n",
    "#     X.append(temp_arr)\n",
    "# print(len(X))"
   ]
  },
  {
   "cell_type": "code",
   "execution_count": 40,
   "metadata": {},
   "outputs": [
    {
     "name": "stdout",
     "output_type": "stream",
     "text": [
      "19995\n",
      "19995\n"
     ]
    }
   ],
   "source": [
    "for ii in range(0,20):\n",
    "    str1=file_string[ii]\n",
    "    for i in range(file_start[ii],file_end[ii]):\n",
    "        if(path.exists(str1+str(i))==False):\n",
    "            continue\n",
    "        obj=open(str1+str(i),errors=None)\n",
    "        data=obj.read()\n",
    "        temp_list=data.split()\n",
    "        temp_arr=[0 for i in range(0,len(features))]\n",
    "        for j in temp_list:\n",
    "            if j in index_dict:\n",
    "                temp_arr[index_dict[j]]+=1\n",
    "        X.append(temp_arr)\n",
    "        Y.append(file_string[ii].split('/')[1])\n",
    "print(len(X))\n",
    "print(len(Y))"
   ]
  },
  {
   "cell_type": "markdown",
   "metadata": {},
   "source": [
    "## Multinomial Naive Bayes"
   ]
  },
  {
   "cell_type": "code",
   "execution_count": 41,
   "metadata": {},
   "outputs": [],
   "source": [
    "def fit(x_train,y_train):\n",
    "    result={}\n",
    "    class_values=set(y_train)\n",
    "#     class_values.remove('Y')\n",
    "    for current_class in class_values:\n",
    "        result[current_class]={}\n",
    "#         result['total_data']=len(y_train)\n",
    "        current_class_rows=(y_train==current_class)\n",
    "        x_train_current=x_train[current_class_rows]\n",
    "        y_train_current=y_train[current_class_rows]\n",
    "        num_features=x_train.shape[1]\n",
    "        for j in range(0,num_features):\n",
    "            result[current_class][j]=(x_train_current[:,j]).sum()\n",
    "    return result"
   ]
  },
  {
   "cell_type": "code",
   "execution_count": 42,
   "metadata": {},
   "outputs": [],
   "source": [
    "# we are taking log cozz multiplying prob is tending to zero....  a*b log(a)+log(b)\n",
    "def probability(dictx,x,current_class):\n",
    "#     output=np.log(dictt[current_class]['total_count'])-np.log(dictt['total_data'])     # *prob(y=ai)\n",
    "    output=0.0\n",
    "    num_features=len(x)\n",
    "    total_count=0\n",
    "    for j in range(0,num_features):\n",
    "        total_count+=dictx[current_class][j]\n",
    "    for j in range(0,num_features):\n",
    "        if(x[j]>0  and int(dictx[current_class][j])>0):\n",
    "            current_xj_prob=np.log(dictx[current_class][j])-np.log(total_count)\n",
    "            output=output+current_xj_prob\n",
    "    return output"
   ]
  },
  {
   "cell_type": "code",
   "execution_count": 43,
   "metadata": {},
   "outputs": [],
   "source": [
    "def predictSinglePoint(dictx,x):\n",
    "    classes =dictx.keys()\n",
    "    best_p=-1000\n",
    "    best_class=-1\n",
    "    first_run=True\n",
    "    for current_class in classes:\n",
    "        p_current_class=probability(dictx,x,current_class)\n",
    "        if(first_run or p_current_class>best_p):\n",
    "            best_p=p_current_class\n",
    "            best_class=current_class\n",
    "            first_run=False\n",
    "    \n",
    "    return best_class"
   ]
  },
  {
   "cell_type": "code",
   "execution_count": 44,
   "metadata": {},
   "outputs": [],
   "source": [
    "def predict(dictx,x_test):\n",
    "    y_pred=[]\n",
    "    for x in x_test:\n",
    "        x_class=predictSinglePoint(dictx,x)\n",
    "        y_pred.append(x_class)\n",
    "    return(y_pred)"
   ]
  },
  {
   "cell_type": "markdown",
   "metadata": {},
   "source": [
    "## applying algo on our dataset"
   ]
  },
  {
   "cell_type": "code",
   "execution_count": 47,
   "metadata": {},
   "outputs": [],
   "source": [
    "xtrain=[]\n",
    "ytrain=[]\n",
    "xtest=[]\n",
    "ytest=[]\n",
    "for i in range(1,len(Y)):\n",
    "    if(i%25==0):\n",
    "        xtest.append(X[i])\n",
    "        ytest.append(Y[i])\n",
    "    else:\n",
    "        xtrain.append(X[i])\n",
    "        ytrain.append(Y[i])\n",
    "x_train=np.array(xtrain)\n",
    "y_train=np.array(ytrain)\n",
    "x_test=np.array(xtest)\n",
    "y_test=np.array(ytest)"
   ]
  },
  {
   "cell_type": "code",
   "execution_count": 48,
   "metadata": {},
   "outputs": [],
   "source": [
    "dictx=fit(x_train,y_train)"
   ]
  },
  {
   "cell_type": "code",
   "execution_count": 49,
   "metadata": {},
   "outputs": [],
   "source": [
    "y_pred=predict(dictx,x_test)"
   ]
  },
  {
   "cell_type": "code",
   "execution_count": 50,
   "metadata": {},
   "outputs": [
    {
     "name": "stdout",
     "output_type": "stream",
     "text": [
      "                          precision    recall  f1-score   support\n",
      "\n",
      "             alt.atheism       0.14      0.13      0.13        39\n",
      "           comp.graphics       0.33      0.05      0.09        40\n",
      " comp.os.ms-windows.misc       0.10      0.10      0.10        40\n",
      "comp.sys.ibm.pc.hardware       0.11      0.10      0.10        40\n",
      "   comp.sys.mac.hardware       0.19      0.17      0.18        40\n",
      "          comp.windows.x       0.00      0.00      0.00        40\n",
      "            misc.forsale       0.20      0.78      0.32        40\n",
      "               rec.autos       0.09      0.07      0.08        40\n",
      "         rec.motorcycles       0.14      0.35      0.20        40\n",
      "      rec.sport.baseball       0.21      0.28      0.24        40\n",
      "        rec.sport.hockey       0.11      0.05      0.07        40\n",
      "               sci.crypt       0.75      0.07      0.14        40\n",
      "         sci.electronics       0.22      0.17      0.19        40\n",
      "                 sci.med       0.16      0.10      0.12        40\n",
      "               sci.space       0.29      0.12      0.18        40\n",
      "  soc.religion.christian       0.14      0.53      0.22        40\n",
      "      talk.politics.guns       0.31      0.10      0.15        40\n",
      "   talk.politics.mideast       0.40      0.15      0.22        40\n",
      "      talk.politics.misc       0.29      0.05      0.09        40\n",
      "      talk.religion.misc       0.23      0.07      0.11        40\n",
      "\n",
      "                accuracy                           0.17       799\n",
      "               macro avg       0.22      0.17      0.15       799\n",
      "            weighted avg       0.22      0.17      0.15       799\n",
      "\n",
      "[[ 5  0  0  1  0  0  5  2  4  4  0  0  0  1  1 15  0  0  0  1]\n",
      " [ 1  2  3  2  2  1  7  0  9  3  1  1  1  1  0  5  1  0  0  0]\n",
      " [ 0  1  4  2  0  0  7  3  4  0  1  0  5  1  2  7  0  2  1  0]\n",
      " [ 4  0  0  4  5  0 10  2  5  3  0  0  1  1  1  4  0  0  0  0]\n",
      " [ 6  0  0  2  7  0 10  0  2  1  1  0  5  0  0  3  2  1  0  0]\n",
      " [ 1  0  4  7  1  0  9  5  2  2  1  0  0  1  1  4  1  0  0  1]\n",
      " [ 0  0  2  1  0  1 31  0  2  0  0  0  0  0  0  1  1  1  0  0]\n",
      " [ 0  0  9  0  1  0  6  3  5  5  1  0  1  1  0  8  0  0  0  0]\n",
      " [ 2  0  1  0  1  0  5  2 14  6  2  0  0  2  0  5  0  0  0  0]\n",
      " [ 3  0  1  1  0  0  5  1  9 11  1  0  1  0  0  7  0  0  0  0]\n",
      " [ 5  0  0  3  5  0  8  0  4  5  2  0  1  0  1  5  0  0  0  1]\n",
      " [ 1  0  1  0  1  0  2  1  2  3  1  3  4  4  2 11  0  1  1  2]\n",
      " [ 2  0  1  4  2  0  8  3  2  1  0  0  7  2  0  8  0  0  0  0]\n",
      " [ 1  0  2  1  3  0  6  2  6  1  1  0  2  4  1  8  0  1  0  1]\n",
      " [ 0  1  2  2  3  0 11  1  3  3  0  0  0  2  5  5  0  0  2  0]\n",
      " [ 0  2  0  1  2  0  5  2  5  1  0  0  0  0  0 21  1  0  0  0]\n",
      " [ 0  0  3  1  1  1  8  3  6  4  1  0  0  2  1  4  4  0  1  0]\n",
      " [ 2  0  3  2  1  0  2  0  3  0  3  0  1  2  0 12  0  6  0  3]\n",
      " [ 2  0  1  2  1  0  3  1  5  0  2  0  1  1  2 11  2  3  2  1]\n",
      " [ 2  0  3  1  1  0  6  2  7  0  1  0  2  0  0 11  1  0  0  3]]\n"
     ]
    }
   ],
   "source": [
    "from sklearn.metrics import classification_report,confusion_matrix\n",
    "print(classification_report(y_test,y_pred))\n",
    "print(confusion_matrix(y_test,y_pred))"
   ]
  }
 ],
 "metadata": {
  "kernelspec": {
   "display_name": "Python 3",
   "language": "python",
   "name": "python3"
  },
  "language_info": {
   "codemirror_mode": {
    "name": "ipython",
    "version": 3
   },
   "file_extension": ".py",
   "mimetype": "text/x-python",
   "name": "python",
   "nbconvert_exporter": "python",
   "pygments_lexer": "ipython3",
   "version": "3.8.5"
  }
 },
 "nbformat": 4,
 "nbformat_minor": 4
}
