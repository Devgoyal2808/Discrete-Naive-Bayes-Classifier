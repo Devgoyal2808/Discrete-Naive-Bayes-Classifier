{
 "cells": [
  {
   "cell_type": "markdown",
   "metadata": {},
   "source": [
    "## writing NaiveBayes Classifier"
   ]
  },
  {
   "cell_type": "code",
   "execution_count": 1,
   "metadata": {},
   "outputs": [],
   "source": [
    "import numpy as np"
   ]
  },
  {
   "cell_type": "code",
   "execution_count": 2,
   "metadata": {},
   "outputs": [],
   "source": [
    "def fit(x_train,y_train):\n",
    "    result={}\n",
    "    class_values=set(y_train)\n",
    "    for current_class in class_values:\n",
    "        result[current_class]={}\n",
    "        result['total_data']=len(y_train)\n",
    "        current_class_rows=(y_train==current_class)\n",
    "        x_train_current=x_train[current_class_rows]\n",
    "        y_train_current=y_train[current_class_rows]\n",
    "        num_features=x_train.shape[1]\n",
    "        result[current_class]['total_count']=len(y_train_current)\n",
    "        for j in range(1,1+num_features):\n",
    "            result[current_class][j]={}\n",
    "            all_possible_values=set(x_train[:,j-1])\n",
    "            for current_value in all_possible_values:\n",
    "                result[current_class][j][current_value]=(x_train_current[:,j-1]==current_value).sum()\n",
    "                \n",
    "                \n",
    "    \n",
    "    return result"
   ]
  },
  {
   "cell_type": "code",
   "execution_count": 3,
   "metadata": {},
   "outputs": [],
   "source": [
    "# we are taking log cozz multiplying prob is tending to zero....  a*b log(a)+log(b)\n",
    "def probability(dictt,x,current_class):\n",
    "    output=np.log(dictt[current_class]['total_count'])-np.log(dictt['total_data'])     # *prob(y=ai)\n",
    "    num_features=len(dictt[current_class].keys()) - 1          # -1 for total count\n",
    "    for j in range(1,num_features+1):\n",
    "        xj=x[j-1]\n",
    "        count_current_class_with_value_xj=dictt[current_class][j][xj] + 1\n",
    "        count_current_class=dictt[current_class]['total_count'] + len(dictt[current_class][j].keys())\n",
    "        current_xj_prob=np.log(count_current_class_with_value_xj)-np.log(count_current_class)\n",
    "        output=output+current_xj_prob\n",
    "    return output"
   ]
  },
  {
   "cell_type": "code",
   "execution_count": 4,
   "metadata": {},
   "outputs": [],
   "source": [
    "def predictSinglePoint(dictt,x):\n",
    "    classes =dictt.keys()\n",
    "    best_p=-1000\n",
    "    best_class=-1\n",
    "    first_run=True\n",
    "    for current_class in classes:\n",
    "        if(current_class=='total_data'):\n",
    "            continue\n",
    "        p_current_class=probability(dictt,x,current_class)\n",
    "        if(first_run or p_current_class>best_p):\n",
    "            best_p=p_current_class\n",
    "            best_class=current_class\n",
    "            first_run=False\n",
    "    \n",
    "    return best_class"
   ]
  },
  {
   "cell_type": "code",
   "execution_count": 5,
   "metadata": {},
   "outputs": [],
   "source": [
    "def predict(dictt,x_test):\n",
    "    y_pred=[]\n",
    "    for x in x_test:\n",
    "        x_class=predictSinglePoint(dictt,x)\n",
    "        y_pred.append(x_class)\n",
    "    return(y_pred)"
   ]
  },
  {
   "cell_type": "markdown",
   "metadata": {},
   "source": [
    "## converting dataset"
   ]
  },
  {
   "cell_type": "code",
   "execution_count": 6,
   "metadata": {},
   "outputs": [],
   "source": [
    "def makelabelled(column):\n",
    "    second_lmt=column.mean()\n",
    "    first_lmt=0.5*second_lmt\n",
    "    third_lmt=1.5*second_lmt\n",
    "    for i in range(0,len(column)):\n",
    "        if(column[i]<first_lmt):\n",
    "            column[i]=0\n",
    "        elif(column[i]<second_lmt):\n",
    "            column[i]=1\n",
    "        elif(column[i]<third_lmt):\n",
    "            column[i]=2\n",
    "        else:\n",
    "            column[i]=3\n",
    "    return(column)"
   ]
  },
  {
   "cell_type": "code",
   "execution_count": 7,
   "metadata": {},
   "outputs": [],
   "source": [
    "from sklearn import datasets\n",
    "iris=datasets.load_iris()\n",
    "x=iris.data\n",
    "y=iris.target"
   ]
  },
  {
   "cell_type": "code",
   "execution_count": 8,
   "metadata": {},
   "outputs": [],
   "source": [
    "for i in range(0,x.shape[-1]):\n",
    "    x[:,-1]=makelabelled(x[:,i])"
   ]
  },
  {
   "cell_type": "code",
   "execution_count": 9,
   "metadata": {},
   "outputs": [],
   "source": [
    "from sklearn import model_selection\n",
    "x_train,x_test,y_train,y_test=model_selection.train_test_split(x,y,test_size=0.25,random_state=0)"
   ]
  },
  {
   "cell_type": "code",
   "execution_count": 10,
   "metadata": {},
   "outputs": [],
   "source": [
    "dictt=fit(x_train,y_train)"
   ]
  },
  {
   "cell_type": "code",
   "execution_count": 11,
   "metadata": {},
   "outputs": [],
   "source": [
    "y_pred=predict(dictt,x_test)"
   ]
  },
  {
   "cell_type": "code",
   "execution_count": 12,
   "metadata": {},
   "outputs": [
    {
     "name": "stdout",
     "output_type": "stream",
     "text": [
      "              precision    recall  f1-score   support\n",
      "\n",
      "           0       1.00      0.85      0.92        13\n",
      "           1       0.64      0.88      0.74        16\n",
      "           2       0.60      0.33      0.43         9\n",
      "\n",
      "    accuracy                           0.74        38\n",
      "   macro avg       0.75      0.68      0.69        38\n",
      "weighted avg       0.75      0.74      0.73        38\n",
      "\n",
      "[[11  2  0]\n",
      " [ 0 14  2]\n",
      " [ 0  6  3]]\n"
     ]
    }
   ],
   "source": [
    "from sklearn.metrics import classification_report,confusion_matrix\n",
    "print(classification_report(y_test,y_pred))\n",
    "print(confusion_matrix(y_test,y_pred))"
   ]
  }
 ],
 "metadata": {
  "kernelspec": {
   "display_name": "Python 3",
   "language": "python",
   "name": "python3"
  },
  "language_info": {
   "codemirror_mode": {
    "name": "ipython",
    "version": 3
   },
   "file_extension": ".py",
   "mimetype": "text/x-python",
   "name": "python",
   "nbconvert_exporter": "python",
   "pygments_lexer": "ipython3",
   "version": "3.8.5"
  }
 },
 "nbformat": 4,
 "nbformat_minor": 4
}
